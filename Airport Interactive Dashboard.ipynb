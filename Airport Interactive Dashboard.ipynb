{
 "cells": [
  {
   "cell_type": "markdown",
   "metadata": {},
   "source": [
    "# Airport Criticality & Vulnerability for Humanitarian Disaster Response"
   ]
  },
  {
   "cell_type": "code",
   "execution_count": 5,
   "metadata": {
    "collapsed": true
   },
   "outputs": [],
   "source": [
    "# Standard Packages\n",
    "import pandas as pd\n",
    "import numpy as np\n",
    "%matplotlib inline\n",
    "import matplotlib.pyplot as plt\n",
    "from shapely.geometry import Point, LineString\n",
    "import geopandas as gpd\n",
    "import pyproj\n",
    "pd.options.display.max_columns = 80"
   ]
  },
  {
   "cell_type": "code",
   "execution_count": 6,
   "metadata": {},
   "outputs": [
    {
     "data": {
      "text/html": [
       "<script>requirejs.config({paths: { 'plotly': ['https://cdn.plot.ly/plotly-latest.min']},});if(!window.Plotly) {{require(['plotly'],function(plotly) {window.Plotly=plotly;});}}</script>"
      ],
      "text/vnd.plotly.v1+html": [
       "<script>requirejs.config({paths: { 'plotly': ['https://cdn.plot.ly/plotly-latest.min']},});if(!window.Plotly) {{require(['plotly'],function(plotly) {window.Plotly=plotly;});}}</script>"
      ]
     },
     "metadata": {},
     "output_type": "display_data"
    }
   ],
   "source": [
    "# Plotly tools\n",
    "import plotly.plotly as py\n",
    "import plotly.graph_objs as go\n",
    "from plotly.offline import download_plotlyjs, init_notebook_mode, iplot\n",
    "init_notebook_mode(connected=True)\n",
    "import dash\n",
    "import dash_core_components as dcc\n",
    "import dash_html_components as html\n",
    "from dash.dependencies import Input, Output\n",
    "import plotly.dashboard_objs as dashboard\n",
    "import IPython.display\n",
    "from IPython.display import Image\n",
    "from plotly.graph_objs import *\n",
    "import plotly\n",
    "plotly.tools.set_credentials_file(username='SMGross', api_key='avJu4OMgDxHBJwNgdbTn')"
   ]
  },
  {
   "cell_type": "markdown",
   "metadata": {},
   "source": [
    "## Retrieve Airport Location Data"
   ]
  },
  {
   "cell_type": "code",
   "execution_count": 7,
   "metadata": {
    "scrolled": true
   },
   "outputs": [],
   "source": [
    "# See \"Appendix 1\" notbook for data sources\n",
    "df = pd.read_excel('draft_output_v8.xlsx')\n",
    "#df.sort_values(by=['crit_metric'], ascending=False).head(20)"
   ]
  },
  {
   "cell_type": "code",
   "execution_count": 8,
   "metadata": {
    "collapsed": true
   },
   "outputs": [],
   "source": [
    "# Make Hover Text\n",
    "\n",
    "df['text'] = df.airportName.str.cat(df.countryName.astype(str), sep='<br><b>Country: <b>')\n",
    "df['text'] = df.text.str.cat(df['crit_metric'].astype(str), sep='<br><b>Airport Criticality: <b>')\n",
    "df['text'] = df.text.str.cat(df['vuln_metric'].astype(str), sep='<br><b>Airport Vulnerability: <b>')\n",
    "df['text'] = df.text.str.cat(df.aptclass.astype(str), sep='<br><b>Airport Class: <b>')\n",
    "df['text'] = df.text.str.cat(df.type.astype(str), sep='<br><b>Size of Airport: <b>')\n",
    "df['text'] = df.text.str.cat(df.elevation.astype(str), sep='<br><b>Airport elevation: <b>')\n",
    "df['text'] = df.text.str.cat(df.rwpaved.astype(str), sep='<br><b>Runway Paved: <b>')\n",
    "df['text'] = df.text.str.cat(df.Count.astype(str), sep='<br><b>Number of airports in country: <b>')\n",
    "#df['text'] = df.text.str.cat(df.home_link.astype(str), sep='<br><b>Link: <b>')\n",
    "df['text'] = df.text.str.cat(df['humuse'].astype(str), sep='<br><b>WFP humanitarian use: <b>')\n",
    "df['text'] = df.text.str.cat(df['status'].astype(str), sep='<br><b>Status: <b>')\n",
    "\n",
    "site_text = list(df['text'])"
   ]
  },
  {
   "cell_type": "markdown",
   "metadata": {},
   "source": [
    "# Airport Dashboard"
   ]
  },
  {
   "cell_type": "code",
   "execution_count": 9,
   "metadata": {},
   "outputs": [
    {
     "name": "stderr",
     "output_type": "stream",
     "text": [
      " * Running on http://127.0.0.1:8050/ (Press CTRL+C to quit)\n",
      "127.0.0.1 - - [01/Sep/2018 10:06:11] \"GET / HTTP/1.1\" 200 -\n",
      "127.0.0.1 - - [01/Sep/2018 10:06:12] \"GET /_dash-layout HTTP/1.1\" 200 -\n",
      "127.0.0.1 - - [01/Sep/2018 10:06:12] \"GET /_dash-dependencies HTTP/1.1\" 200 -\n",
      "127.0.0.1 - - [01/Sep/2018 10:06:12] \"GET /favicon.ico HTTP/1.1\" 200 -\n"
     ]
    }
   ],
   "source": [
    "# Define color scale\n",
    "scl = [0,\"rgb(0, 199, 255)\"],[0.125,\"rgb(0, 255, 216)\"],[0.25,\"rgb(0, 255, 67)\"],\\\n",
    "[0.375,\"rgb(55, 255, 01)\"],[0.5,\"rgb(144, 255, 0)\"],[0.625,\"rgb(199, 255, 0)\"],\\\n",
    "[0.75,\"rgb(255, 191, 0)\"],[0.875,\"rgb(255, 93, 0)\"],[1,\"rgb(255, 4, 0)\"]\n",
    "\n",
    "# Dictionary of airport marker attributes\n",
    "\n",
    "app = dash.Dash()\n",
    "\n",
    "app.layout = html.Div([\n",
    "    html.Div([\n",
    "        dcc.Graph(\n",
    "            id = \"Airport Map BetaTEST\",\n",
    "            figure={\n",
    "                \"data\": [ dict(\n",
    "                            type = 'scattergeo',\n",
    "                            lon = df['longitude_x'],\n",
    "                            lat = df['latitude_x'],\n",
    "                            text = site_text,\n",
    "                            mode = 'markers',\n",
    "                            marker = dict(\n",
    "                            size =  df['crit_metric'],\n",
    "                            opacity = 0.8,\n",
    "                            reversescale = False,\n",
    "                            autocolorscale = False,\n",
    "                            line = dict(width=1, color='rgba(102, 102, 102)'),\n",
    "                            colorscale = 'Jet',\n",
    "                            #scl,\n",
    "                            color = df['vuln_metric'],\n",
    "                            colorbar=dict(title=\"Airport Vulnerability\")\n",
    "                            ))],\n",
    "                 \n",
    "                'layout': dict(\n",
    "                        title = 'Humanitarian Airport Dashboard',\n",
    "                        colorbar = True,\n",
    "                        geo = dict(\n",
    "                        showframe = False,\n",
    "                        showland = True,\n",
    "                        landcolor = \"rgb(212, 212, 212)\",\n",
    "                        showcoastlines = True,\n",
    "                        showcountries = True,\n",
    "                        projection = dict(type = 'Mercator'),\n",
    "\n",
    "                    )\n",
    "                )\n",
    "            },\n",
    "            style = {\"height\": \"100%\"}\n",
    "        )\n",
    "    ],\n",
    "        style = {\"height\": \"100%\"}\n",
    "    ),\n",
    "\n",
    "], style = {\"border-style\": \"solid\", \"height\": \"95vh\"})\n",
    "\n",
    "app.run_server()\n"
   ]
  }
 ],
 "metadata": {
  "kernelspec": {
   "display_name": "Python [conda root]",
   "language": "python",
   "name": "conda-root-py"
  },
  "language_info": {
   "codemirror_mode": {
    "name": "ipython",
    "version": 3
   },
   "file_extension": ".py",
   "mimetype": "text/x-python",
   "name": "python",
   "nbconvert_exporter": "python",
   "pygments_lexer": "ipython3",
   "version": "3.6.1"
  }
 },
 "nbformat": 4,
 "nbformat_minor": 2
}
